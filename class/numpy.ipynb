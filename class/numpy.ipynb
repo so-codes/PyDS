{
 "cells": [
  {
   "cell_type": "code",
   "execution_count": null,
   "metadata": {},
   "outputs": [],
   "source": [
    "# Find the most frequent value in a NumPy array\n",
    "import numpy as np\n",
    "arr = np.array([1, 2, 3, 4, 5, 6, 7, 8, 9, 1, 2, 3, 4, 5, 6, 7, 8, 9, 1, 2, 3, 4, 5, 6, 7, 8, 9])\n",
    "most_frequent_value = np.bincount(arr).argmax()\n",
    "print(f\"The most frequent value in the array is {most_frequent_value}\")\n"
   ]
  },
  {
   "cell_type": "code",
   "execution_count": null,
   "metadata": {},
   "outputs": [],
   "source": [
    "# Interchange two axes of an array\n",
    "import numpy as np\n",
    "arr = np.array([[1, 2, 3], [4, 5, 6]])\n",
    "print(f\"Original array:\\n{arr}\")\n",
    "arr = np.swapaxes(arr, 0, 1)\n",
    "print(f\"Array after interchanging its axes:\\n{arr}\")\n"
   ]
  },
  {
   "cell_type": "code",
   "execution_count": null,
   "metadata": {},
   "outputs": [],
   "source": [
    "# Program to get the common items between two python Numpy arrays.\n",
    "import numpy as np\n",
    "arr1 = np.array([1, 2, 3, 4, 5])\n",
    "arr2 = np.array([3, 4, 5, 6, 7])\n",
    "common_items = np.intersect1d(arr1, arr2)\n",
    "print(f\"The common items between the two arrays are: {common_items}\")\n"
   ]
  },
  {
   "cell_type": "code",
   "execution_count": null,
   "metadata": {},
   "outputs": [],
   "source": [
    "# Insert elements to 1D array.\n",
    "import numpy as np\n",
    "arr = np.array([1, 2, 3, 4, 5])\n",
    "x = 10\n",
    "i = 2\n",
    "arr = np.insert(arr, i, x)\n",
    "print(f\"Array after inserting {x} at index {i}:\\n{arr}\")\n"
   ]
  },
  {
   "cell_type": "code",
   "execution_count": null,
   "metadata": {},
   "outputs": [],
   "source": [
    "# Insert elements to 2D arrays\n",
    "import numpy as np\n",
    "arr = np.array([[1, 2, 3], [4, 5, 6]])\n",
    "row = np.array([7, 8, 9])\n",
    "i = 1\n",
    "arr = np.insert(arr, i, row, axis=0)\n",
    "print(f\"Array after inserting the row {row} at index {i}:\\n{arr}\")\n"
   ]
  },
  {
   "cell_type": "code",
   "execution_count": null,
   "metadata": {},
   "outputs": [],
   "source": [
    "# Replace all odd numbers in array with -1\n",
    "import numpy as np\n",
    "arr = np.array([1, 2, 3, 4, 5, 6, 7, 8, 9])\n",
    "arr = np.where(arr % 2 == 1, -1, arr)\n",
    "print(f\"Array after replacing all odd numbers with -1:\\n{arr}\")\n"
   ]
  },
  {
   "cell_type": "code",
   "execution_count": null,
   "metadata": {},
   "outputs": [],
   "source": [
    "# Create a 3x3 matrix with values ranging from 0 to 8.Find indices of non-zero elements from [1,2,0,0,4,0]\n",
    "import numpy as np\n",
    "arr = np.arange(9).reshape(3, 3)\n",
    "print(f\"3x3 matrix with values ranging from 0 to 8:\\n{arr}\")\n",
    "\n",
    "indices = np.nonzero(arr)\n",
    "print(f\"Indices of non-zero elements in the matrix:\\n{indices}\")\n"
   ]
  }
 ],
 "metadata": {
  "language_info": {
   "name": "python"
  }
 },
 "nbformat": 4,
 "nbformat_minor": 2
}
