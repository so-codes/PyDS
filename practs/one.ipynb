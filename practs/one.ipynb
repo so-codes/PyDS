{
 "cells": [
  {
   "cell_type": "code",
   "execution_count": 1,
   "metadata": {},
   "outputs": [],
   "source": [
    "import numpy as np"
   ]
  },
  {
   "cell_type": "code",
   "execution_count": 2,
   "metadata": {},
   "outputs": [
    {
     "name": "stdout",
     "output_type": "stream",
     "text": [
      "The combined array is:\n",
      "[[1 2 3]\n",
      " [4 5 6]\n",
      " [7 8 9]]\n"
     ]
    }
   ],
   "source": [
    "# Write a program to Combine  a one and a two-dimensional NumPy Array\n",
    "\n",
    "# Create a one-dimensional array\n",
    "one_d_array = np.array([1, 2, 3])\n",
    "\n",
    "# Create a two-dimensional array\n",
    "two_d_array = np.array([[4, 5, 6], [7, 8, 9]])\n",
    "\n",
    "# Reshape the one-dimensional array to have the same number of columns as the two-dimensional array\n",
    "reshaped_one_d_array = one_d_array.reshape(1, -1)\n",
    "\n",
    "# Combine the two arrays\n",
    "combined_array = np.concatenate((reshaped_one_d_array, two_d_array), axis=0)\n",
    "\n",
    "print(f\"The combined array is:\\n{combined_array}\")\n"
   ]
  },
  {
   "cell_type": "code",
   "execution_count": 3,
   "metadata": {},
   "outputs": [
    {
     "name": "stdout",
     "output_type": "stream",
     "text": [
      "The element-wise sum of a and b is:\n",
      "[5 7 9]\n"
     ]
    }
   ],
   "source": [
    "# Given are 2 similar dimensional numpy arrays, how to get a numpy array output in which every element is an element-wise sum of the 2 numpy arrays?\n",
    "# Create two numpy arrays\n",
    "a = np.array([1, 2, 3])\n",
    "b = np.array([4, 5, 6])\n",
    "\n",
    "# Get the element-wise sum of a and b\n",
    "c = np.add(a, b) # or c = a + b\n",
    "\n",
    "print(f\"The element-wise sum of a and b is:\\n{c}\")\n"
   ]
  },
  {
   "cell_type": "code",
   "execution_count": 4,
   "metadata": {},
   "outputs": [
    {
     "name": "stdout",
     "output_type": "stream",
     "text": [
      "The sequence is:\n",
      "[  0   2   4   6   8  10  12  14  16  18  20  22  24  26  28  30  32  34\n",
      "  36  38  40  42  44  46  48  50  52  54  56  58  60  62  64  66  68  70\n",
      "  72  74  76  78  80  82  84  86  88  90  92  94  96  98 100]\n"
     ]
    }
   ],
   "source": [
    "# Generate a sequence of numbers in the form of a numpy array from 0 to 100 with gaps of 2 numbers, for example: 0, 2, 4 ....\n",
    "# Generate a sequence of numbers from 0 to 100 with gaps of 2\n",
    "seq = np.arange(0, 101, 2)\n",
    "\n",
    "print(f\"The sequence is:\\n{seq}\")"
   ]
  },
  {
   "cell_type": "code",
   "execution_count": 5,
   "metadata": {},
   "outputs": [
    {
     "name": "stdout",
     "output_type": "stream",
     "text": [
      "The original array is:\n",
      "[1 2 3 4 5]\n",
      "The reversed array is:\n",
      "[5 4 3 2 1]\n"
     ]
    }
   ],
   "source": [
    "# Reverse a numpy array\n",
    "# Create an array\n",
    "arr = np.array([1, 2, 3, 4, 5])\n",
    "\n",
    "print(f\"The original array is:\\n{arr}\")\n",
    "\n",
    "# Reverse the array\n",
    "rev = arr[::-1]\n",
    "\n",
    "print(f\"The reversed array is:\\n{rev}\")"
   ]
  },
  {
   "cell_type": "code",
   "execution_count": 6,
   "metadata": {},
   "outputs": [
    {
     "name": "stdout",
     "output_type": "stream",
     "text": [
      "The array is:\n",
      "[1 2 0 0 4 0]\n",
      "The indices of non-zero elements are:\n",
      "(array([0, 1, 4], dtype=int64),)\n"
     ]
    }
   ],
   "source": [
    "# Find indices of non-zero elements from [1,2,0,0,4,0]\n",
    "# Create an array\n",
    "arr = np.array([1, 2, 0, 0, 4, 0])\n",
    "\n",
    "print(f\"The array is:\\n{arr}\")\n",
    "\n",
    "# Find the indices of non-zero elements\n",
    "ind = np.nonzero(arr)\n",
    "\n",
    "print(f\"The indices of non-zero elements are:\\n{ind}\")"
   ]
  },
  {
   "cell_type": "code",
   "execution_count": 7,
   "metadata": {},
   "outputs": [
    {
     "name": "stdout",
     "output_type": "stream",
     "text": [
      "The matrix is:\n",
      "[[0 1 2]\n",
      " [3 4 5]\n",
      " [6 7 8]]\n"
     ]
    }
   ],
   "source": [
    "\n",
    "# Create a 3x3 matrix with values ranging from 0 to 8\n",
    "# Create a sequence of numbers from 0 to 8\n",
    "seq = np.arange(9)\n",
    "\n",
    "# Reshape the sequence into a 3x3 matrix\n",
    "mat = np.reshape(seq, (3, 3))\n",
    "\n",
    "print(f\"The matrix is:\\n{mat}\")"
   ]
  },
  {
   "cell_type": "code",
   "execution_count": 8,
   "metadata": {},
   "outputs": [
    {
     "name": "stdout",
     "output_type": "stream",
     "text": [
      "The array is:\n",
      "[[0.85050947 0.52516072 0.45544646 0.52727105 0.79317676 0.49739829\n",
      "  0.02822935 0.34820797 0.02016267 0.7085749 ]\n",
      " [0.00695014 0.98767847 0.40382327 0.23946753 0.30310529 0.64363882\n",
      "  0.75442784 0.95222445 0.79609628 0.05857303]\n",
      " [0.87744223 0.56785395 0.57217907 0.70335518 0.31405875 0.5669238\n",
      "  0.98177738 0.04181162 0.3897588  0.3181862 ]\n",
      " [0.33329417 0.49465009 0.36880389 0.06773782 0.89014353 0.94598239\n",
      "  0.87383999 0.78465428 0.90146657 0.92204106]\n",
      " [0.84440391 0.22755357 0.94271219 0.03895695 0.98377881 0.73548815\n",
      "  0.06568384 0.98079554 0.33774079 0.37281473]\n",
      " [0.12680719 0.19479854 0.44711743 0.43610525 0.75364837 0.62226723\n",
      "  0.90683325 0.17267509 0.94538709 0.4912744 ]\n",
      " [0.31631095 0.52385362 0.05033465 0.55554263 0.62173165 0.07924272\n",
      "  0.29446229 0.77519839 0.3791996  0.71908444]\n",
      " [0.19262596 0.54356563 0.05397026 0.38831383 0.45970934 0.3499822\n",
      "  0.94526942 0.61114398 0.20576248 0.28697264]\n",
      " [0.26130569 0.34108683 0.10040028 0.15043728 0.61678608 0.83537466\n",
      "  0.40575828 0.25955745 0.28253775 0.49253936]\n",
      " [0.13264244 0.67442275 0.79917616 0.71376498 0.88720517 0.20825916\n",
      "  0.81308439 0.92793741 0.32550121 0.85619164]]\n"
     ]
    }
   ],
   "source": [
    "# Create a 10x10 array with random values\n",
    "\n",
    "arr = np.random.rand(10, 10)\n",
    "\n",
    "print(f\"The array is:\\n{arr}\")\n"
   ]
  }
 ],
 "metadata": {
  "kernelspec": {
   "display_name": "Python 3",
   "language": "python",
   "name": "python3"
  },
  "language_info": {
   "codemirror_mode": {
    "name": "ipython",
    "version": 3
   },
   "file_extension": ".py",
   "mimetype": "text/x-python",
   "name": "python",
   "nbconvert_exporter": "python",
   "pygments_lexer": "ipython3",
   "version": "3.11.3"
  }
 },
 "nbformat": 4,
 "nbformat_minor": 2
}
